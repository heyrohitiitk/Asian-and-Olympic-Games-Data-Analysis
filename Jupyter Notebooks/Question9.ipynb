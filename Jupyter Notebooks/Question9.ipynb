{
 "cells": [
  {
   "cell_type": "markdown",
   "metadata": {},
   "source": [
    "In this question, the primary thing that needs to be done is the comparison between the Asian and Olympic games across the years, i.e. the comparison is made between the years in which Asian games take place and immediate next year in which Olympic games take place.\n",
    "\n",
    "Now, the reason why we are doing this is to analyse the performance of a country or a player between Asian and Olympic games year-wise, and this thing will actually help to derive the insight into how the performance of a country vary between Asian and Olympic games, let's say for India I made the comparison between Asian games of 1962 and Olympic games of 1964, Now; as a result, I will get a table/list of players and also the medal count for in both years, once I get this final table, then I can answer the questions like is there any increase or decrease in performance of India from 1962 Asian to 1964 Olympics? I can also tell which players won the medal Asian and Olympic, both? What is the difference between medals won in the 1962 Asian and 1964 Olympics? Whether the player performs well in the 1962 Asian or 1964 Olympics? What are the sports in which players participate both in the Asian and Olympic, and who are those players? So we can easily answer these kinds of questions.\n",
    "\n",
    "Also, we can make (country, sport) comparison between Asian and immediate next Olympics, let's say for India I want do want in Athletics which players participated and win a medal in both Asian and immediate next Olympic? So India can focus on those sports more in which players perform well in both the Asian and Olympic."
   ]
  },
  {
   "cell_type": "code",
   "execution_count": 1,
   "metadata": {},
   "outputs": [],
   "source": [
    "import pandas as pd\n",
    "import numpy as np"
   ]
  },
  {
   "cell_type": "markdown",
   "metadata": {},
   "source": [
    "### Part-1"
   ]
  },
  {
   "cell_type": "markdown",
   "metadata": {},
   "source": [
    "In the first part the main focus is on the countries, so for any particular country let's say for India we get a detailed analysis table from which we can derive various insights like we can find the players who won medals in asian and next immediate olympic, So we can call them as most valuable players."
   ]
  },
  {
   "cell_type": "code",
   "execution_count": 2,
   "metadata": {},
   "outputs": [],
   "source": [
    "def CountryWiseAthleteComparison(country): # Function which return Country wise analysis\n",
    "    asian=pd.read_csv(\"Players_Medal_List_Asian.csv\") # Asian Players and Medals dataset\n",
    "    olympic=pd.read_csv(\"Players_Medal_List_Olympics.csv\") # Olympic Players and Medal dataset\n",
    "    \n",
    "    asian_years=asian[\"Year\"].unique() #List contain asian game years\n",
    "    olympic_years=olympic[\"Year\"].unique() #List contain olympic game yers\n",
    "    \n",
    "    df=pd.DataFrame(columns=[\"Country\",\"Player\",\"Gender\",\"Year_Asian\",\"Year_Olympic\",\"Sport\",\"Gold_Olympic\",\n",
    "                             \"Gold_Asian\",\"Silver_Olympic\",\"Silver_Asian\",\"Bronze_Olympic\",\"Bronze_Asian\"])  # This is how our resulting dataframe looks like\n",
    "    \n",
    "    for yasian,yolympic in zip(asian_years,olympic_years): #looping through pairs of year [asian year,next olympic year]\n",
    "        asian_df1=asian[(asian[\"Country\"]==country) & (asian[\"Year\"]==yasian)]\n",
    "        olympic_df1=olympic[(olympic[\"Country\"]==country) & (olympic[\"Year\"]==yolympic)]\n",
    "        \n",
    "        asian_df1=asian_df1[asian_df1[\"Sport_Type\"]==\"Single\"]\n",
    "        asian_df1.drop(columns=[\"Sport_Type\",\"Event\"],inplace=True)\n",
    "        \n",
    "        asian_df1=asian_df1.groupby(by=[\"Year\",\"Country\",\"Gender\",\"Sport\",\"Player_Name\"]).sum().reset_index()\n",
    "        \n",
    "        olympic_df1=olympic_df1[olympic_df1[\"Sport_Type\"]==\"Individual\"]\n",
    "        olympic_df1.drop(columns=[\"Sport_Type\",\"Host_City\",\"Event\"],inplace=True)\n",
    "\n",
    "        olympic_df1=olympic_df1.groupby(by=[\"Year\",\"Country\",\"Gender\",\"Sport\",\"Name\"]).sum().reset_index()\n",
    "        \n",
    "        result=olympic_df1.merge(asian_df1,left_on=\"Name\",right_on=\"Player_Name\",suffixes=('_Olympic','_Asian'))\n",
    "        \n",
    "        for x in result.values:\n",
    "            df.loc[len(df.index)]=[x[1],x[4],x[2],x[8],x[0],x[11],x[5],x[13],x[6],x[14],x[7],x[15]]\n",
    "            \n",
    "    return df"
   ]
  },
  {
   "cell_type": "code",
   "execution_count": 3,
   "metadata": {},
   "outputs": [
    {
     "data": {
      "text/html": [
       "<div>\n",
       "<style scoped>\n",
       "    .dataframe tbody tr th:only-of-type {\n",
       "        vertical-align: middle;\n",
       "    }\n",
       "\n",
       "    .dataframe tbody tr th {\n",
       "        vertical-align: top;\n",
       "    }\n",
       "\n",
       "    .dataframe thead th {\n",
       "        text-align: right;\n",
       "    }\n",
       "</style>\n",
       "<table border=\"1\" class=\"dataframe\">\n",
       "  <thead>\n",
       "    <tr style=\"text-align: right;\">\n",
       "      <th></th>\n",
       "      <th>Country</th>\n",
       "      <th>Player</th>\n",
       "      <th>Gender</th>\n",
       "      <th>Year_Asian</th>\n",
       "      <th>Year_Olympic</th>\n",
       "      <th>Sport</th>\n",
       "      <th>Gold_Olympic</th>\n",
       "      <th>Gold_Asian</th>\n",
       "      <th>Silver_Olympic</th>\n",
       "      <th>Silver_Asian</th>\n",
       "      <th>Bronze_Olympic</th>\n",
       "      <th>Bronze_Asian</th>\n",
       "    </tr>\n",
       "  </thead>\n",
       "  <tbody>\n",
       "    <tr>\n",
       "      <th>0</th>\n",
       "      <td>India</td>\n",
       "      <td>Karnam Malleswari</td>\n",
       "      <td>F</td>\n",
       "      <td>1998</td>\n",
       "      <td>2000</td>\n",
       "      <td>Weightlifting</td>\n",
       "      <td>0</td>\n",
       "      <td>0</td>\n",
       "      <td>0</td>\n",
       "      <td>1</td>\n",
       "      <td>1</td>\n",
       "      <td>0</td>\n",
       "    </tr>\n",
       "    <tr>\n",
       "      <th>1</th>\n",
       "      <td>India</td>\n",
       "      <td>Gagan Narang</td>\n",
       "      <td>M</td>\n",
       "      <td>2010</td>\n",
       "      <td>2012</td>\n",
       "      <td>Shooting</td>\n",
       "      <td>0</td>\n",
       "      <td>0</td>\n",
       "      <td>0</td>\n",
       "      <td>1</td>\n",
       "      <td>1</td>\n",
       "      <td>0</td>\n",
       "    </tr>\n",
       "    <tr>\n",
       "      <th>2</th>\n",
       "      <td>India</td>\n",
       "      <td>Vijay Kumar</td>\n",
       "      <td>M</td>\n",
       "      <td>2010</td>\n",
       "      <td>2012</td>\n",
       "      <td>Shooting</td>\n",
       "      <td>0</td>\n",
       "      <td>0</td>\n",
       "      <td>1</td>\n",
       "      <td>0</td>\n",
       "      <td>0</td>\n",
       "      <td>2</td>\n",
       "    </tr>\n",
       "    <tr>\n",
       "      <th>3</th>\n",
       "      <td>India</td>\n",
       "      <td>P. V. Sindhu</td>\n",
       "      <td>F</td>\n",
       "      <td>2018</td>\n",
       "      <td>2020</td>\n",
       "      <td>Badminton</td>\n",
       "      <td>0</td>\n",
       "      <td>0</td>\n",
       "      <td>0</td>\n",
       "      <td>1</td>\n",
       "      <td>1</td>\n",
       "      <td>0</td>\n",
       "    </tr>\n",
       "    <tr>\n",
       "      <th>4</th>\n",
       "      <td>India</td>\n",
       "      <td>Neeraj Chopra</td>\n",
       "      <td>M</td>\n",
       "      <td>2018</td>\n",
       "      <td>2020</td>\n",
       "      <td>Athletics</td>\n",
       "      <td>1</td>\n",
       "      <td>1</td>\n",
       "      <td>0</td>\n",
       "      <td>0</td>\n",
       "      <td>0</td>\n",
       "      <td>0</td>\n",
       "    </tr>\n",
       "  </tbody>\n",
       "</table>\n",
       "</div>"
      ],
      "text/plain": [
       "  Country             Player Gender Year_Asian Year_Olympic          Sport  \\\n",
       "0   India  Karnam Malleswari      F       1998         2000  Weightlifting   \n",
       "1   India       Gagan Narang      M       2010         2012       Shooting   \n",
       "2   India        Vijay Kumar      M       2010         2012       Shooting   \n",
       "3   India       P. V. Sindhu      F       2018         2020      Badminton   \n",
       "4   India      Neeraj Chopra      M       2018         2020      Athletics   \n",
       "\n",
       "  Gold_Olympic Gold_Asian Silver_Olympic Silver_Asian Bronze_Olympic  \\\n",
       "0            0          0              0            1              1   \n",
       "1            0          0              0            1              1   \n",
       "2            0          0              1            0              0   \n",
       "3            0          0              0            1              1   \n",
       "4            1          1              0            0              0   \n",
       "\n",
       "  Bronze_Asian  \n",
       "0            0  \n",
       "1            0  \n",
       "2            2  \n",
       "3            0  \n",
       "4            0  "
      ]
     },
     "execution_count": 3,
     "metadata": {},
     "output_type": "execute_result"
    }
   ],
   "source": [
    "result_country=CountryWiseAthleteComparison(\"India\")\n",
    "result_country.head()"
   ]
  },
  {
   "cell_type": "markdown",
   "metadata": {},
   "source": [
    "Now we get the final summary table for India and by using this table we derive various insights, like we can find the players who wom medal in asian and immediate next olympic, we can also find males and females participation in asian and compare it with immediate next olympic"
   ]
  },
  {
   "cell_type": "code",
   "execution_count": 4,
   "metadata": {},
   "outputs": [
    {
     "name": "stderr",
     "output_type": "stream",
     "text": [
      "C:\\Users\\DEEPAK~1\\AppData\\Local\\Temp/ipykernel_8784/4218953189.py:2: SettingWithCopyWarning: \n",
      "A value is trying to be set on a copy of a slice from a DataFrame.\n",
      "Try using .loc[row_indexer,col_indexer] = value instead\n",
      "\n",
      "See the caveats in the documentation: https://pandas.pydata.org/pandas-docs/stable/user_guide/indexing.html#returning-a-view-versus-a-copy\n",
      "  overall_comparison[\"Total_Asian\"]=result_country[\"Gold_Asian\"]+result_country[\"Silver_Asian\"]+result_country[\"Bronze_Asian\"]\n",
      "C:\\Users\\DEEPAK~1\\AppData\\Local\\Temp/ipykernel_8784/4218953189.py:3: SettingWithCopyWarning: \n",
      "A value is trying to be set on a copy of a slice from a DataFrame.\n",
      "Try using .loc[row_indexer,col_indexer] = value instead\n",
      "\n",
      "See the caveats in the documentation: https://pandas.pydata.org/pandas-docs/stable/user_guide/indexing.html#returning-a-view-versus-a-copy\n",
      "  overall_comparison[\"Total_Olympic\"]=result_country[\"Gold_Olympic\"]+result_country[\"Silver_Olympic\"]+result_country[\"Bronze_Olympic\"]\n"
     ]
    }
   ],
   "source": [
    "overall_comparison=result_country[[\"Player\",\"Year_Asian\",\"Year_Olympic\",\"Sport\"]]\n",
    "overall_comparison[\"Total_Asian\"]=result_country[\"Gold_Asian\"]+result_country[\"Silver_Asian\"]+result_country[\"Bronze_Asian\"]\n",
    "overall_comparison[\"Total_Olympic\"]=result_country[\"Gold_Olympic\"]+result_country[\"Silver_Olympic\"]+result_country[\"Bronze_Olympic\"]"
   ]
  },
  {
   "cell_type": "code",
   "execution_count": 5,
   "metadata": {},
   "outputs": [
    {
     "data": {
      "text/html": [
       "<div>\n",
       "<style scoped>\n",
       "    .dataframe tbody tr th:only-of-type {\n",
       "        vertical-align: middle;\n",
       "    }\n",
       "\n",
       "    .dataframe tbody tr th {\n",
       "        vertical-align: top;\n",
       "    }\n",
       "\n",
       "    .dataframe thead th {\n",
       "        text-align: right;\n",
       "    }\n",
       "</style>\n",
       "<table border=\"1\" class=\"dataframe\">\n",
       "  <thead>\n",
       "    <tr style=\"text-align: right;\">\n",
       "      <th></th>\n",
       "      <th>Player</th>\n",
       "      <th>Year_Asian</th>\n",
       "      <th>Year_Olympic</th>\n",
       "      <th>Sport</th>\n",
       "      <th>Total_Asian</th>\n",
       "      <th>Total_Olympic</th>\n",
       "    </tr>\n",
       "  </thead>\n",
       "  <tbody>\n",
       "    <tr>\n",
       "      <th>2</th>\n",
       "      <td>Vijay Kumar</td>\n",
       "      <td>2010</td>\n",
       "      <td>2012</td>\n",
       "      <td>Shooting</td>\n",
       "      <td>2</td>\n",
       "      <td>1</td>\n",
       "    </tr>\n",
       "    <tr>\n",
       "      <th>0</th>\n",
       "      <td>Karnam Malleswari</td>\n",
       "      <td>1998</td>\n",
       "      <td>2000</td>\n",
       "      <td>Weightlifting</td>\n",
       "      <td>1</td>\n",
       "      <td>1</td>\n",
       "    </tr>\n",
       "    <tr>\n",
       "      <th>1</th>\n",
       "      <td>Gagan Narang</td>\n",
       "      <td>2010</td>\n",
       "      <td>2012</td>\n",
       "      <td>Shooting</td>\n",
       "      <td>1</td>\n",
       "      <td>1</td>\n",
       "    </tr>\n",
       "    <tr>\n",
       "      <th>3</th>\n",
       "      <td>P. V. Sindhu</td>\n",
       "      <td>2018</td>\n",
       "      <td>2020</td>\n",
       "      <td>Badminton</td>\n",
       "      <td>1</td>\n",
       "      <td>1</td>\n",
       "    </tr>\n",
       "    <tr>\n",
       "      <th>4</th>\n",
       "      <td>Neeraj Chopra</td>\n",
       "      <td>2018</td>\n",
       "      <td>2020</td>\n",
       "      <td>Athletics</td>\n",
       "      <td>1</td>\n",
       "      <td>1</td>\n",
       "    </tr>\n",
       "    <tr>\n",
       "      <th>5</th>\n",
       "      <td>Bajrang Punia</td>\n",
       "      <td>2018</td>\n",
       "      <td>2020</td>\n",
       "      <td>Wrestling</td>\n",
       "      <td>1</td>\n",
       "      <td>1</td>\n",
       "    </tr>\n",
       "  </tbody>\n",
       "</table>\n",
       "</div>"
      ],
      "text/plain": [
       "              Player Year_Asian Year_Olympic          Sport Total_Asian  \\\n",
       "2        Vijay Kumar       2010         2012       Shooting           2   \n",
       "0  Karnam Malleswari       1998         2000  Weightlifting           1   \n",
       "1       Gagan Narang       2010         2012       Shooting           1   \n",
       "3       P. V. Sindhu       2018         2020      Badminton           1   \n",
       "4      Neeraj Chopra       2018         2020      Athletics           1   \n",
       "5      Bajrang Punia       2018         2020      Wrestling           1   \n",
       "\n",
       "  Total_Olympic  \n",
       "2             1  \n",
       "0             1  \n",
       "1             1  \n",
       "3             1  \n",
       "4             1  \n",
       "5             1  "
      ]
     },
     "execution_count": 5,
     "metadata": {},
     "output_type": "execute_result"
    }
   ],
   "source": [
    "overall_comparison.sort_values(by=[\"Total_Asian\",\"Total_Olympic\"],ascending=False)"
   ]
  },
  {
   "cell_type": "markdown",
   "metadata": {},
   "source": [
    "So here we can see those players who wins atleast one medal in the asian and immediate next olympic games,and from this we get to know about the sports in which players win medals successively in asian and olympic games."
   ]
  },
  {
   "cell_type": "code",
   "execution_count": 6,
   "metadata": {},
   "outputs": [
    {
     "data": {
      "text/html": [
       "<div>\n",
       "<style scoped>\n",
       "    .dataframe tbody tr th:only-of-type {\n",
       "        vertical-align: middle;\n",
       "    }\n",
       "\n",
       "    .dataframe tbody tr th {\n",
       "        vertical-align: top;\n",
       "    }\n",
       "\n",
       "    .dataframe thead th {\n",
       "        text-align: right;\n",
       "    }\n",
       "</style>\n",
       "<table border=\"1\" class=\"dataframe\">\n",
       "  <thead>\n",
       "    <tr style=\"text-align: right;\">\n",
       "      <th></th>\n",
       "      <th>Player</th>\n",
       "      <th>Year_Asian</th>\n",
       "      <th>Year_Olympic</th>\n",
       "      <th>Sport</th>\n",
       "      <th>Gold_Asian</th>\n",
       "      <th>Gold_Olympic</th>\n",
       "    </tr>\n",
       "  </thead>\n",
       "  <tbody>\n",
       "    <tr>\n",
       "      <th>4</th>\n",
       "      <td>Neeraj Chopra</td>\n",
       "      <td>2018</td>\n",
       "      <td>2020</td>\n",
       "      <td>Athletics</td>\n",
       "      <td>1</td>\n",
       "      <td>1</td>\n",
       "    </tr>\n",
       "    <tr>\n",
       "      <th>5</th>\n",
       "      <td>Bajrang Punia</td>\n",
       "      <td>2018</td>\n",
       "      <td>2020</td>\n",
       "      <td>Wrestling</td>\n",
       "      <td>1</td>\n",
       "      <td>0</td>\n",
       "    </tr>\n",
       "    <tr>\n",
       "      <th>0</th>\n",
       "      <td>Karnam Malleswari</td>\n",
       "      <td>1998</td>\n",
       "      <td>2000</td>\n",
       "      <td>Weightlifting</td>\n",
       "      <td>0</td>\n",
       "      <td>0</td>\n",
       "    </tr>\n",
       "    <tr>\n",
       "      <th>1</th>\n",
       "      <td>Gagan Narang</td>\n",
       "      <td>2010</td>\n",
       "      <td>2012</td>\n",
       "      <td>Shooting</td>\n",
       "      <td>0</td>\n",
       "      <td>0</td>\n",
       "    </tr>\n",
       "    <tr>\n",
       "      <th>2</th>\n",
       "      <td>Vijay Kumar</td>\n",
       "      <td>2010</td>\n",
       "      <td>2012</td>\n",
       "      <td>Shooting</td>\n",
       "      <td>0</td>\n",
       "      <td>0</td>\n",
       "    </tr>\n",
       "    <tr>\n",
       "      <th>3</th>\n",
       "      <td>P. V. Sindhu</td>\n",
       "      <td>2018</td>\n",
       "      <td>2020</td>\n",
       "      <td>Badminton</td>\n",
       "      <td>0</td>\n",
       "      <td>0</td>\n",
       "    </tr>\n",
       "  </tbody>\n",
       "</table>\n",
       "</div>"
      ],
      "text/plain": [
       "              Player Year_Asian Year_Olympic          Sport Gold_Asian  \\\n",
       "4      Neeraj Chopra       2018         2020      Athletics          1   \n",
       "5      Bajrang Punia       2018         2020      Wrestling          1   \n",
       "0  Karnam Malleswari       1998         2000  Weightlifting          0   \n",
       "1       Gagan Narang       2010         2012       Shooting          0   \n",
       "2        Vijay Kumar       2010         2012       Shooting          0   \n",
       "3       P. V. Sindhu       2018         2020      Badminton          0   \n",
       "\n",
       "  Gold_Olympic  \n",
       "4            1  \n",
       "5            0  \n",
       "0            0  \n",
       "1            0  \n",
       "2            0  \n",
       "3            0  "
      ]
     },
     "execution_count": 6,
     "metadata": {},
     "output_type": "execute_result"
    }
   ],
   "source": [
    "gold_comparison=result_country[[\"Player\",\"Year_Asian\",\"Year_Olympic\",\"Sport\",\"Gold_Asian\",\"Gold_Olympic\"]]\n",
    "gold_comparison.sort_values(by=[\"Gold_Asian\",\"Gold_Olympic\"],ascending=False)"
   ]
  },
  {
   "cell_type": "markdown",
   "metadata": {},
   "source": [
    "Here as we can see from gold comparison for India and we can see \"Neeraj Chopra\" is the only player who won Gold in 2018 Asian and immediate next 2020 Olympic in \"Athletics\" sport, and also we can see those players won a medal successively in asian and olympic but not the gold medal."
   ]
  },
  {
   "cell_type": "code",
   "execution_count": 7,
   "metadata": {},
   "outputs": [
    {
     "data": {
      "text/html": [
       "<div>\n",
       "<style scoped>\n",
       "    .dataframe tbody tr th:only-of-type {\n",
       "        vertical-align: middle;\n",
       "    }\n",
       "\n",
       "    .dataframe tbody tr th {\n",
       "        vertical-align: top;\n",
       "    }\n",
       "\n",
       "    .dataframe thead th {\n",
       "        text-align: right;\n",
       "    }\n",
       "</style>\n",
       "<table border=\"1\" class=\"dataframe\">\n",
       "  <thead>\n",
       "    <tr style=\"text-align: right;\">\n",
       "      <th></th>\n",
       "      <th>Player</th>\n",
       "      <th>Year_Asian</th>\n",
       "      <th>Year_Olympic</th>\n",
       "      <th>Sport</th>\n",
       "      <th>Silver_Asian</th>\n",
       "      <th>Silver_Olympic</th>\n",
       "    </tr>\n",
       "  </thead>\n",
       "  <tbody>\n",
       "    <tr>\n",
       "      <th>0</th>\n",
       "      <td>Karnam Malleswari</td>\n",
       "      <td>1998</td>\n",
       "      <td>2000</td>\n",
       "      <td>Weightlifting</td>\n",
       "      <td>1</td>\n",
       "      <td>0</td>\n",
       "    </tr>\n",
       "    <tr>\n",
       "      <th>1</th>\n",
       "      <td>Gagan Narang</td>\n",
       "      <td>2010</td>\n",
       "      <td>2012</td>\n",
       "      <td>Shooting</td>\n",
       "      <td>1</td>\n",
       "      <td>0</td>\n",
       "    </tr>\n",
       "    <tr>\n",
       "      <th>3</th>\n",
       "      <td>P. V. Sindhu</td>\n",
       "      <td>2018</td>\n",
       "      <td>2020</td>\n",
       "      <td>Badminton</td>\n",
       "      <td>1</td>\n",
       "      <td>0</td>\n",
       "    </tr>\n",
       "    <tr>\n",
       "      <th>2</th>\n",
       "      <td>Vijay Kumar</td>\n",
       "      <td>2010</td>\n",
       "      <td>2012</td>\n",
       "      <td>Shooting</td>\n",
       "      <td>0</td>\n",
       "      <td>1</td>\n",
       "    </tr>\n",
       "    <tr>\n",
       "      <th>4</th>\n",
       "      <td>Neeraj Chopra</td>\n",
       "      <td>2018</td>\n",
       "      <td>2020</td>\n",
       "      <td>Athletics</td>\n",
       "      <td>0</td>\n",
       "      <td>0</td>\n",
       "    </tr>\n",
       "    <tr>\n",
       "      <th>5</th>\n",
       "      <td>Bajrang Punia</td>\n",
       "      <td>2018</td>\n",
       "      <td>2020</td>\n",
       "      <td>Wrestling</td>\n",
       "      <td>0</td>\n",
       "      <td>0</td>\n",
       "    </tr>\n",
       "  </tbody>\n",
       "</table>\n",
       "</div>"
      ],
      "text/plain": [
       "              Player Year_Asian Year_Olympic          Sport Silver_Asian  \\\n",
       "0  Karnam Malleswari       1998         2000  Weightlifting            1   \n",
       "1       Gagan Narang       2010         2012       Shooting            1   \n",
       "3       P. V. Sindhu       2018         2020      Badminton            1   \n",
       "2        Vijay Kumar       2010         2012       Shooting            0   \n",
       "4      Neeraj Chopra       2018         2020      Athletics            0   \n",
       "5      Bajrang Punia       2018         2020      Wrestling            0   \n",
       "\n",
       "  Silver_Olympic  \n",
       "0              0  \n",
       "1              0  \n",
       "3              0  \n",
       "2              1  \n",
       "4              0  \n",
       "5              0  "
      ]
     },
     "execution_count": 7,
     "metadata": {},
     "output_type": "execute_result"
    }
   ],
   "source": [
    "silver_comparison=result_country[[\"Player\",\"Year_Asian\",\"Year_Olympic\",\"Sport\",\"Silver_Asian\",\"Silver_Olympic\"]]\n",
    "silver_comparison.sort_values(by=[\"Silver_Asian\",\"Silver_Olympic\"],ascending=False)"
   ]
  },
  {
   "cell_type": "markdown",
   "metadata": {},
   "source": [
    "here we can see that there is no player who won silver in both asian and next olympic and also the players who won atleast one medal successively in asian and olympic but not the silver medal."
   ]
  },
  {
   "cell_type": "code",
   "execution_count": 8,
   "metadata": {},
   "outputs": [
    {
     "data": {
      "text/html": [
       "<div>\n",
       "<style scoped>\n",
       "    .dataframe tbody tr th:only-of-type {\n",
       "        vertical-align: middle;\n",
       "    }\n",
       "\n",
       "    .dataframe tbody tr th {\n",
       "        vertical-align: top;\n",
       "    }\n",
       "\n",
       "    .dataframe thead th {\n",
       "        text-align: right;\n",
       "    }\n",
       "</style>\n",
       "<table border=\"1\" class=\"dataframe\">\n",
       "  <thead>\n",
       "    <tr style=\"text-align: right;\">\n",
       "      <th></th>\n",
       "      <th>Player</th>\n",
       "      <th>Year_Asian</th>\n",
       "      <th>Year_Olympic</th>\n",
       "      <th>Sport</th>\n",
       "      <th>Bronze_Asian</th>\n",
       "      <th>Bronze_Olympic</th>\n",
       "    </tr>\n",
       "  </thead>\n",
       "  <tbody>\n",
       "    <tr>\n",
       "      <th>2</th>\n",
       "      <td>Vijay Kumar</td>\n",
       "      <td>2010</td>\n",
       "      <td>2012</td>\n",
       "      <td>Shooting</td>\n",
       "      <td>2</td>\n",
       "      <td>0</td>\n",
       "    </tr>\n",
       "    <tr>\n",
       "      <th>0</th>\n",
       "      <td>Karnam Malleswari</td>\n",
       "      <td>1998</td>\n",
       "      <td>2000</td>\n",
       "      <td>Weightlifting</td>\n",
       "      <td>0</td>\n",
       "      <td>1</td>\n",
       "    </tr>\n",
       "    <tr>\n",
       "      <th>1</th>\n",
       "      <td>Gagan Narang</td>\n",
       "      <td>2010</td>\n",
       "      <td>2012</td>\n",
       "      <td>Shooting</td>\n",
       "      <td>0</td>\n",
       "      <td>1</td>\n",
       "    </tr>\n",
       "    <tr>\n",
       "      <th>3</th>\n",
       "      <td>P. V. Sindhu</td>\n",
       "      <td>2018</td>\n",
       "      <td>2020</td>\n",
       "      <td>Badminton</td>\n",
       "      <td>0</td>\n",
       "      <td>1</td>\n",
       "    </tr>\n",
       "    <tr>\n",
       "      <th>5</th>\n",
       "      <td>Bajrang Punia</td>\n",
       "      <td>2018</td>\n",
       "      <td>2020</td>\n",
       "      <td>Wrestling</td>\n",
       "      <td>0</td>\n",
       "      <td>1</td>\n",
       "    </tr>\n",
       "    <tr>\n",
       "      <th>4</th>\n",
       "      <td>Neeraj Chopra</td>\n",
       "      <td>2018</td>\n",
       "      <td>2020</td>\n",
       "      <td>Athletics</td>\n",
       "      <td>0</td>\n",
       "      <td>0</td>\n",
       "    </tr>\n",
       "  </tbody>\n",
       "</table>\n",
       "</div>"
      ],
      "text/plain": [
       "              Player Year_Asian Year_Olympic          Sport Bronze_Asian  \\\n",
       "2        Vijay Kumar       2010         2012       Shooting            2   \n",
       "0  Karnam Malleswari       1998         2000  Weightlifting            0   \n",
       "1       Gagan Narang       2010         2012       Shooting            0   \n",
       "3       P. V. Sindhu       2018         2020      Badminton            0   \n",
       "5      Bajrang Punia       2018         2020      Wrestling            0   \n",
       "4      Neeraj Chopra       2018         2020      Athletics            0   \n",
       "\n",
       "  Bronze_Olympic  \n",
       "2              0  \n",
       "0              1  \n",
       "1              1  \n",
       "3              1  \n",
       "5              1  \n",
       "4              0  "
      ]
     },
     "execution_count": 8,
     "metadata": {},
     "output_type": "execute_result"
    }
   ],
   "source": [
    "bronze_comparison=result_country[[\"Player\",\"Year_Asian\",\"Year_Olympic\",\"Sport\",\"Bronze_Asian\",\"Bronze_Olympic\"]]\n",
    "bronze_comparison.sort_values(by=[\"Bronze_Asian\",\"Bronze_Olympic\"],ascending=False)"
   ]
  },
  {
   "cell_type": "markdown",
   "metadata": {},
   "source": [
    "here we can see that there is no player who won bronze successively in asian and olympic games, also we can see that \"vijay kumar\" won maximum(2) bronze in 2010 asian in \"Shooting\" but no bronze in next olympic."
   ]
  },
  {
   "cell_type": "code",
   "execution_count": 9,
   "metadata": {},
   "outputs": [
    {
     "data": {
      "text/html": [
       "<div>\n",
       "<style scoped>\n",
       "    .dataframe tbody tr th:only-of-type {\n",
       "        vertical-align: middle;\n",
       "    }\n",
       "\n",
       "    .dataframe tbody tr th {\n",
       "        vertical-align: top;\n",
       "    }\n",
       "\n",
       "    .dataframe thead th {\n",
       "        text-align: right;\n",
       "    }\n",
       "</style>\n",
       "<table border=\"1\" class=\"dataframe\">\n",
       "  <thead>\n",
       "    <tr style=\"text-align: right;\">\n",
       "      <th></th>\n",
       "      <th>Player</th>\n",
       "      <th>Year_Asian</th>\n",
       "      <th>Year_Olympic</th>\n",
       "      <th>Sport</th>\n",
       "      <th>Gold_Asian</th>\n",
       "      <th>Gold_Olympic</th>\n",
       "      <th>Silver_Asian</th>\n",
       "      <th>Silver_Olympic</th>\n",
       "      <th>Bronze_Asian</th>\n",
       "      <th>Bronze_Olympic</th>\n",
       "    </tr>\n",
       "  </thead>\n",
       "  <tbody>\n",
       "    <tr>\n",
       "      <th>0</th>\n",
       "      <td>Karnam Malleswari</td>\n",
       "      <td>1998</td>\n",
       "      <td>2000</td>\n",
       "      <td>Weightlifting</td>\n",
       "      <td>0</td>\n",
       "      <td>0</td>\n",
       "      <td>1</td>\n",
       "      <td>0</td>\n",
       "      <td>0</td>\n",
       "      <td>1</td>\n",
       "    </tr>\n",
       "    <tr>\n",
       "      <th>3</th>\n",
       "      <td>P. V. Sindhu</td>\n",
       "      <td>2018</td>\n",
       "      <td>2020</td>\n",
       "      <td>Badminton</td>\n",
       "      <td>0</td>\n",
       "      <td>0</td>\n",
       "      <td>1</td>\n",
       "      <td>0</td>\n",
       "      <td>0</td>\n",
       "      <td>1</td>\n",
       "    </tr>\n",
       "  </tbody>\n",
       "</table>\n",
       "</div>"
      ],
      "text/plain": [
       "              Player Year_Asian Year_Olympic          Sport Gold_Asian  \\\n",
       "0  Karnam Malleswari       1998         2000  Weightlifting          0   \n",
       "3       P. V. Sindhu       2018         2020      Badminton          0   \n",
       "\n",
       "  Gold_Olympic Silver_Asian Silver_Olympic Bronze_Asian Bronze_Olympic  \n",
       "0            0            1              0            0              1  \n",
       "3            0            1              0            0              1  "
      ]
     },
     "execution_count": 9,
     "metadata": {},
     "output_type": "execute_result"
    }
   ],
   "source": [
    "female_comparison=result_country[result_country[\"Gender\"]==\"F\"][[\"Player\",\"Year_Asian\",\"Year_Olympic\",\"Sport\",\"Gold_Asian\",\"Gold_Olympic\",\"Silver_Asian\",\"Silver_Olympic\",\"Bronze_Asian\",\"Bronze_Olympic\"]]\n",
    "female_comparison"
   ]
  },
  {
   "cell_type": "markdown",
   "metadata": {},
   "source": [
    "here we can see the those female players of india who won medal successively in asian and olympic games."
   ]
  },
  {
   "cell_type": "code",
   "execution_count": 10,
   "metadata": {},
   "outputs": [
    {
     "data": {
      "text/html": [
       "<div>\n",
       "<style scoped>\n",
       "    .dataframe tbody tr th:only-of-type {\n",
       "        vertical-align: middle;\n",
       "    }\n",
       "\n",
       "    .dataframe tbody tr th {\n",
       "        vertical-align: top;\n",
       "    }\n",
       "\n",
       "    .dataframe thead th {\n",
       "        text-align: right;\n",
       "    }\n",
       "</style>\n",
       "<table border=\"1\" class=\"dataframe\">\n",
       "  <thead>\n",
       "    <tr style=\"text-align: right;\">\n",
       "      <th></th>\n",
       "      <th>Player</th>\n",
       "      <th>Year_Asian</th>\n",
       "      <th>Year_Olympic</th>\n",
       "      <th>Sport</th>\n",
       "      <th>Gold_Asian</th>\n",
       "      <th>Gold_Olympic</th>\n",
       "      <th>Silver_Asian</th>\n",
       "      <th>Silver_Olympic</th>\n",
       "      <th>Bronze_Asian</th>\n",
       "      <th>Bronze_Olympic</th>\n",
       "    </tr>\n",
       "  </thead>\n",
       "  <tbody>\n",
       "    <tr>\n",
       "      <th>1</th>\n",
       "      <td>Gagan Narang</td>\n",
       "      <td>2010</td>\n",
       "      <td>2012</td>\n",
       "      <td>Shooting</td>\n",
       "      <td>0</td>\n",
       "      <td>0</td>\n",
       "      <td>1</td>\n",
       "      <td>0</td>\n",
       "      <td>0</td>\n",
       "      <td>1</td>\n",
       "    </tr>\n",
       "    <tr>\n",
       "      <th>2</th>\n",
       "      <td>Vijay Kumar</td>\n",
       "      <td>2010</td>\n",
       "      <td>2012</td>\n",
       "      <td>Shooting</td>\n",
       "      <td>0</td>\n",
       "      <td>0</td>\n",
       "      <td>0</td>\n",
       "      <td>1</td>\n",
       "      <td>2</td>\n",
       "      <td>0</td>\n",
       "    </tr>\n",
       "    <tr>\n",
       "      <th>4</th>\n",
       "      <td>Neeraj Chopra</td>\n",
       "      <td>2018</td>\n",
       "      <td>2020</td>\n",
       "      <td>Athletics</td>\n",
       "      <td>1</td>\n",
       "      <td>1</td>\n",
       "      <td>0</td>\n",
       "      <td>0</td>\n",
       "      <td>0</td>\n",
       "      <td>0</td>\n",
       "    </tr>\n",
       "    <tr>\n",
       "      <th>5</th>\n",
       "      <td>Bajrang Punia</td>\n",
       "      <td>2018</td>\n",
       "      <td>2020</td>\n",
       "      <td>Wrestling</td>\n",
       "      <td>1</td>\n",
       "      <td>0</td>\n",
       "      <td>0</td>\n",
       "      <td>0</td>\n",
       "      <td>0</td>\n",
       "      <td>1</td>\n",
       "    </tr>\n",
       "  </tbody>\n",
       "</table>\n",
       "</div>"
      ],
      "text/plain": [
       "          Player Year_Asian Year_Olympic      Sport Gold_Asian Gold_Olympic  \\\n",
       "1   Gagan Narang       2010         2012   Shooting          0            0   \n",
       "2    Vijay Kumar       2010         2012   Shooting          0            0   \n",
       "4  Neeraj Chopra       2018         2020  Athletics          1            1   \n",
       "5  Bajrang Punia       2018         2020  Wrestling          1            0   \n",
       "\n",
       "  Silver_Asian Silver_Olympic Bronze_Asian Bronze_Olympic  \n",
       "1            1              0            0              1  \n",
       "2            0              1            2              0  \n",
       "4            0              0            0              0  \n",
       "5            0              0            0              1  "
      ]
     },
     "execution_count": 10,
     "metadata": {},
     "output_type": "execute_result"
    }
   ],
   "source": [
    "male_comparison=result_country[result_country[\"Gender\"]==\"M\"][[\"Player\",\"Year_Asian\",\"Year_Olympic\",\"Sport\",\"Gold_Asian\",\"Gold_Olympic\",\"Silver_Asian\",\"Silver_Olympic\",\"Bronze_Asian\",\"Bronze_Olympic\"]]\n",
    "male_comparison"
   ]
  },
  {
   "cell_type": "markdown",
   "metadata": {},
   "source": [
    "here we can see the male players of india who won atleast one medal succesively in asian and olympic games."
   ]
  },
  {
   "cell_type": "code",
   "execution_count": 11,
   "metadata": {},
   "outputs": [],
   "source": [
    "asian=pd.read_csv(\"Players_Medal_List_Asian.csv\")\n",
    "countries=asian[\"Country\"].unique()\n",
    "max_player_country=[]\n",
    "\n",
    "for x in countries:\n",
    "    result_country=CountryWiseAthleteComparison(x)\n",
    "    max_player_country.append([x,len(result_country)])\n",
    "max_player_country=sorted(max_player_country,key=lambda x:x[1])"
   ]
  },
  {
   "cell_type": "code",
   "execution_count": 12,
   "metadata": {},
   "outputs": [
    {
     "data": {
      "text/plain": [
       "['China', 251]"
      ]
     },
     "execution_count": 12,
     "metadata": {},
     "output_type": "execute_result"
    }
   ],
   "source": [
    "max_player_country[-1]"
   ]
  },
  {
   "cell_type": "markdown",
   "metadata": {},
   "source": [
    "So, China is the country in which maximum number of players won atleast one medal successively in Asian and olympic games."
   ]
  },
  {
   "cell_type": "code",
   "execution_count": 13,
   "metadata": {},
   "outputs": [],
   "source": [
    "max_player_gold_country=[]\n",
    "\n",
    "for x in countries:\n",
    "    result_country=CountryWiseAthleteComparison(x)\n",
    "    result_country=result_country[(result_country[\"Gold_Asian\"]>=1) & (result_country[\"Gold_Olympic\"]>=1)]\n",
    "    max_player_gold_country.append([x,len(result_country)])\n",
    "max_player_gold_country=sorted(max_player_gold_country,key=lambda x:x[1])"
   ]
  },
  {
   "cell_type": "code",
   "execution_count": 14,
   "metadata": {},
   "outputs": [
    {
     "data": {
      "text/plain": [
       "['China', 77]"
      ]
     },
     "execution_count": 14,
     "metadata": {},
     "output_type": "execute_result"
    }
   ],
   "source": [
    "max_player_gold_country[-1]"
   ]
  },
  {
   "cell_type": "markdown",
   "metadata": {},
   "source": [
    "Again China is the country in which maximum number of players won atleast one Gold medal successively in Asian and olympic games."
   ]
  },
  {
   "cell_type": "markdown",
   "metadata": {},
   "source": [
    "### Part -2"
   ]
  },
  {
   "cell_type": "markdown",
   "metadata": {},
   "source": [
    "In the second part we can get detailed analysis for a particular country and also for a particular sport, let's say for India we want to find in \"Athletics\" the list of players who won medal in both asian and immediate next olympic, so in that way we can also do sport wise analysis and find in which sport a country has comparitively better players."
   ]
  },
  {
   "cell_type": "code",
   "execution_count": 15,
   "metadata": {},
   "outputs": [],
   "source": [
    "def CountrySportWiseAthleteComparison(country,sport):\n",
    "    asian=pd.read_csv(\"Players_Medal_List_Asian.csv\")\n",
    "    olympic=pd.read_csv(\"Players_Medal_List_Olympics.csv\")\n",
    "    \n",
    "    asian_years=asian[\"Year\"].unique()\n",
    "    olympic_years=olympic[\"Year\"].unique()\n",
    "    \n",
    "    df=pd.DataFrame(columns=[\"Country\",\"Sport\",\"Player\",\"Gender\",\"Year_Asian\",\"Year_Olympic\",\"Gold_Olympic\",\n",
    "                             \"Gold_Asian\",\"Siver_Olympic\",\"Silver_Asian\",\"Bronze_Olympic\",\"Bronze_Asian\"])\n",
    "    \n",
    "    for yasian,yolympic in zip(asian_years,olympic_years):\n",
    "        asian_df1=asian[(asian[\"Country\"]==country) & (asian[\"Year\"]==yasian) & (asian[\"Sport\"]==sport)]\n",
    "        olympic_df1=olympic[(olympic[\"Country\"]==country) & (olympic[\"Year\"]==yolympic) & (olympic[\"Sport\"]==sport)]\n",
    "        \n",
    "        asian_df1=asian_df1[asian_df1[\"Sport_Type\"]==\"Single\"]\n",
    "        asian_df1.drop(columns=[\"Sport_Type\",\"Event\"],inplace=True)\n",
    "\n",
    "        asian_df1=asian_df1.groupby(by=[\"Year\",\"Country\",\"Sport\",\"Gender\",\"Player_Name\"]).sum().reset_index()\n",
    "        \n",
    "        olympic_df1=olympic_df1[olympic_df1[\"Sport_Type\"]==\"Individual\"]\n",
    "        olympic_df1.drop(columns=[\"Sport_Type\",\"Host_City\",\"Event\"],inplace=True)\n",
    "\n",
    "        olympic_df1=olympic_df1.groupby(by=[\"Year\",\"Country\",\"Sport\",\"Gender\",\"Name\"]).sum().reset_index()\n",
    "        \n",
    "        result=olympic_df1.merge(asian_df1,left_on=\"Name\",right_on=\"Player_Name\",suffixes=('_Olympic','_Asian'))\n",
    "        \n",
    "        for x in result.values:\n",
    "            df.loc[len(df.index)]=[x[1],x[2],x[4],x[3],x[8],x[0],x[5],x[13],x[6],x[14],x[7],x[15]]\n",
    "    \n",
    "    return df"
   ]
  },
  {
   "cell_type": "code",
   "execution_count": 16,
   "metadata": {},
   "outputs": [
    {
     "data": {
      "text/html": [
       "<div>\n",
       "<style scoped>\n",
       "    .dataframe tbody tr th:only-of-type {\n",
       "        vertical-align: middle;\n",
       "    }\n",
       "\n",
       "    .dataframe tbody tr th {\n",
       "        vertical-align: top;\n",
       "    }\n",
       "\n",
       "    .dataframe thead th {\n",
       "        text-align: right;\n",
       "    }\n",
       "</style>\n",
       "<table border=\"1\" class=\"dataframe\">\n",
       "  <thead>\n",
       "    <tr style=\"text-align: right;\">\n",
       "      <th></th>\n",
       "      <th>Country</th>\n",
       "      <th>Sport</th>\n",
       "      <th>Player</th>\n",
       "      <th>Gender</th>\n",
       "      <th>Year_Asian</th>\n",
       "      <th>Year_Olympic</th>\n",
       "      <th>Gold_Olympic</th>\n",
       "      <th>Gold_Asian</th>\n",
       "      <th>Siver_Olympic</th>\n",
       "      <th>Silver_Asian</th>\n",
       "      <th>Bronze_Olympic</th>\n",
       "      <th>Bronze_Asian</th>\n",
       "    </tr>\n",
       "  </thead>\n",
       "  <tbody>\n",
       "    <tr>\n",
       "      <th>0</th>\n",
       "      <td>India</td>\n",
       "      <td>Athletics</td>\n",
       "      <td>Neeraj Chopra</td>\n",
       "      <td>M</td>\n",
       "      <td>2018</td>\n",
       "      <td>2020</td>\n",
       "      <td>1</td>\n",
       "      <td>1</td>\n",
       "      <td>0</td>\n",
       "      <td>0</td>\n",
       "      <td>0</td>\n",
       "      <td>0</td>\n",
       "    </tr>\n",
       "  </tbody>\n",
       "</table>\n",
       "</div>"
      ],
      "text/plain": [
       "  Country      Sport         Player Gender Year_Asian Year_Olympic  \\\n",
       "0   India  Athletics  Neeraj Chopra      M       2018         2020   \n",
       "\n",
       "  Gold_Olympic Gold_Asian Siver_Olympic Silver_Asian Bronze_Olympic  \\\n",
       "0            1          1             0            0              0   \n",
       "\n",
       "  Bronze_Asian  \n",
       "0            0  "
      ]
     },
     "execution_count": 16,
     "metadata": {},
     "output_type": "execute_result"
    }
   ],
   "source": [
    "result=CountrySportWiseAthleteComparison(\"India\",\"Athletics\")\n",
    "result"
   ]
  },
  {
   "cell_type": "markdown",
   "metadata": {},
   "source": [
    "like this we can do analysis for any particular country and any particular sport and get list of players who succesively won medals in asian and olympic games. "
   ]
  },
  {
   "cell_type": "code",
   "execution_count": 17,
   "metadata": {},
   "outputs": [],
   "source": [
    "asian=pd.read_csv(\"Players_Medal_List_Asian.csv\")\n",
    "games=asian[\"Sport\"].unique()"
   ]
  },
  {
   "cell_type": "code",
   "execution_count": 18,
   "metadata": {},
   "outputs": [],
   "source": [
    "best_sports=[]\n",
    "for x in games:\n",
    "    result_country_sport=CountrySportWiseAthleteComparison(\"India\",x)\n",
    "    best_sports.append([x,len(result_country_sport)])\n",
    "\n",
    "best_sports=sorted(best_sports,key=lambda x:x[1])"
   ]
  },
  {
   "cell_type": "code",
   "execution_count": 19,
   "metadata": {},
   "outputs": [
    {
     "data": {
      "text/plain": [
       "[['Athletics', 1],\n",
       " ['Weightlifting', 1],\n",
       " ['Wrestling', 1],\n",
       " ['Badminton', 1],\n",
       " ['Shooting', 2]]"
      ]
     },
     "execution_count": 19,
     "metadata": {},
     "output_type": "execute_result"
    }
   ],
   "source": [
    "best_sports[-5:]"
   ]
  },
  {
   "cell_type": "markdown",
   "metadata": {},
   "source": [
    "here we get the list of top 5 sports in India in which players won atleast one medal succesively in asian and olympic games.  "
   ]
  },
  {
   "cell_type": "code",
   "execution_count": 20,
   "metadata": {},
   "outputs": [
    {
     "data": {
      "text/html": [
       "<div>\n",
       "<style scoped>\n",
       "    .dataframe tbody tr th:only-of-type {\n",
       "        vertical-align: middle;\n",
       "    }\n",
       "\n",
       "    .dataframe tbody tr th {\n",
       "        vertical-align: top;\n",
       "    }\n",
       "\n",
       "    .dataframe thead th {\n",
       "        text-align: right;\n",
       "    }\n",
       "</style>\n",
       "<table border=\"1\" class=\"dataframe\">\n",
       "  <thead>\n",
       "    <tr style=\"text-align: right;\">\n",
       "      <th></th>\n",
       "      <th>Country</th>\n",
       "      <th>Sport</th>\n",
       "      <th>Player</th>\n",
       "      <th>Gender</th>\n",
       "      <th>Year_Asian</th>\n",
       "      <th>Year_Olympic</th>\n",
       "      <th>Gold_Olympic</th>\n",
       "      <th>Gold_Asian</th>\n",
       "      <th>Siver_Olympic</th>\n",
       "      <th>Silver_Asian</th>\n",
       "      <th>Bronze_Olympic</th>\n",
       "      <th>Bronze_Asian</th>\n",
       "    </tr>\n",
       "  </thead>\n",
       "  <tbody>\n",
       "    <tr>\n",
       "      <th>0</th>\n",
       "      <td>India</td>\n",
       "      <td>Shooting</td>\n",
       "      <td>Gagan Narang</td>\n",
       "      <td>M</td>\n",
       "      <td>2010</td>\n",
       "      <td>2012</td>\n",
       "      <td>0</td>\n",
       "      <td>0</td>\n",
       "      <td>0</td>\n",
       "      <td>1</td>\n",
       "      <td>1</td>\n",
       "      <td>0</td>\n",
       "    </tr>\n",
       "    <tr>\n",
       "      <th>1</th>\n",
       "      <td>India</td>\n",
       "      <td>Shooting</td>\n",
       "      <td>Vijay Kumar</td>\n",
       "      <td>M</td>\n",
       "      <td>2010</td>\n",
       "      <td>2012</td>\n",
       "      <td>0</td>\n",
       "      <td>0</td>\n",
       "      <td>1</td>\n",
       "      <td>0</td>\n",
       "      <td>0</td>\n",
       "      <td>2</td>\n",
       "    </tr>\n",
       "  </tbody>\n",
       "</table>\n",
       "</div>"
      ],
      "text/plain": [
       "  Country     Sport        Player Gender Year_Asian Year_Olympic Gold_Olympic  \\\n",
       "0   India  Shooting  Gagan Narang      M       2010         2012            0   \n",
       "1   India  Shooting   Vijay Kumar      M       2010         2012            0   \n",
       "\n",
       "  Gold_Asian Siver_Olympic Silver_Asian Bronze_Olympic Bronze_Asian  \n",
       "0          0             0            1              1            0  \n",
       "1          0             1            0              0            2  "
      ]
     },
     "execution_count": 20,
     "metadata": {},
     "output_type": "execute_result"
    }
   ],
   "source": [
    "max_player_sport=best_sports[-1][0]\n",
    "result_country_sport=CountrySportWiseAthleteComparison(\"India\",max_player_sport)\n",
    "result_country_sport"
   ]
  },
  {
   "cell_type": "markdown",
   "metadata": {},
   "source": [
    "So here we can see that for India in \"Shooting\" max number of players are there who won medal succesively in asian and olympic."
   ]
  },
  {
   "cell_type": "code",
   "execution_count": 21,
   "metadata": {},
   "outputs": [
    {
     "data": {
      "text/plain": [
       "['Athletics']"
      ]
     },
     "execution_count": 21,
     "metadata": {},
     "output_type": "execute_result"
    }
   ],
   "source": [
    "gold_sports=[]\n",
    "for x in games:\n",
    "    result_country_sport=CountrySportWiseAthleteComparison(\"India\",x)\n",
    "    gasian=result_country_sport[\"Gold_Asian\"].sum()\n",
    "    golympic=result_country_sport[\"Gold_Olympic\"].sum()\n",
    "    \n",
    "    if gasian>0 and golympic>0:\n",
    "        gold_sports.append(x)\n",
    "gold_sports"
   ]
  },
  {
   "cell_type": "markdown",
   "metadata": {},
   "source": [
    "as we can see that for India only in \"Athletics\" the player won medal successively in asian and olympic games."
   ]
  },
  {
   "cell_type": "code",
   "execution_count": 22,
   "metadata": {},
   "outputs": [
    {
     "data": {
      "text/html": [
       "<div>\n",
       "<style scoped>\n",
       "    .dataframe tbody tr th:only-of-type {\n",
       "        vertical-align: middle;\n",
       "    }\n",
       "\n",
       "    .dataframe tbody tr th {\n",
       "        vertical-align: top;\n",
       "    }\n",
       "\n",
       "    .dataframe thead th {\n",
       "        text-align: right;\n",
       "    }\n",
       "</style>\n",
       "<table border=\"1\" class=\"dataframe\">\n",
       "  <thead>\n",
       "    <tr style=\"text-align: right;\">\n",
       "      <th></th>\n",
       "      <th>Country</th>\n",
       "      <th>Sport</th>\n",
       "      <th>Player</th>\n",
       "      <th>Gender</th>\n",
       "      <th>Year_Asian</th>\n",
       "      <th>Year_Olympic</th>\n",
       "      <th>Gold_Olympic</th>\n",
       "      <th>Gold_Asian</th>\n",
       "      <th>Siver_Olympic</th>\n",
       "      <th>Silver_Asian</th>\n",
       "      <th>Bronze_Olympic</th>\n",
       "      <th>Bronze_Asian</th>\n",
       "    </tr>\n",
       "  </thead>\n",
       "  <tbody>\n",
       "    <tr>\n",
       "      <th>0</th>\n",
       "      <td>India</td>\n",
       "      <td>Athletics</td>\n",
       "      <td>Neeraj Chopra</td>\n",
       "      <td>M</td>\n",
       "      <td>2018</td>\n",
       "      <td>2020</td>\n",
       "      <td>1</td>\n",
       "      <td>1</td>\n",
       "      <td>0</td>\n",
       "      <td>0</td>\n",
       "      <td>0</td>\n",
       "      <td>0</td>\n",
       "    </tr>\n",
       "  </tbody>\n",
       "</table>\n",
       "</div>"
      ],
      "text/plain": [
       "  Country      Sport         Player Gender Year_Asian Year_Olympic  \\\n",
       "0   India  Athletics  Neeraj Chopra      M       2018         2020   \n",
       "\n",
       "  Gold_Olympic Gold_Asian Siver_Olympic Silver_Asian Bronze_Olympic  \\\n",
       "0            1          1             0            0              0   \n",
       "\n",
       "  Bronze_Asian  \n",
       "0            0  "
      ]
     },
     "execution_count": 22,
     "metadata": {},
     "output_type": "execute_result"
    }
   ],
   "source": [
    "result_country_sport=CountrySportWiseAthleteComparison(\"India\",gold_sports[0])\n",
    "result_country_sport"
   ]
  },
  {
   "cell_type": "markdown",
   "metadata": {},
   "source": [
    "the player who won gold medal successively in asian and olympic games, as we can see for India \"Neraj Chopra\" is the only player who did this."
   ]
  },
  {
   "cell_type": "markdown",
   "metadata": {},
   "source": [
    "### Part-3"
   ]
  },
  {
   "cell_type": "markdown",
   "metadata": {},
   "source": [
    "In the third part we are doing only sport wise analysis to find overall in which sport maximum numbers players won medal successively in asian and olympic games."
   ]
  },
  {
   "cell_type": "code",
   "execution_count": 23,
   "metadata": {},
   "outputs": [],
   "source": [
    "def SportWiseAthleteComparison(sport):\n",
    "    asian=pd.read_csv(\"Players_Medal_List_Asian.csv\")\n",
    "    olympic=pd.read_csv(\"Players_Medal_List_Olympics.csv\")\n",
    "    \n",
    "    asian_years=asian[\"Year\"].unique()\n",
    "    olympic_years=olympic[\"Year\"].unique()\n",
    "    \n",
    "    df=pd.DataFrame(columns=[\"Sport\",\"Country\",\"Player\",\"Year_Asian\",\"Year_Olympic\",\"Gold_Olympic\",\n",
    "                             \"Gold_Asian\",\"Siver_Olympic\",\"Silver_Asian\",\"Bronze_Olympic\",\"Bronze_Asian\"])\n",
    "    \n",
    "    for yasian,yolympic in zip(asian_years,olympic_years):\n",
    "        asian_df1=asian[(asian[\"Year\"]==yasian) & (asian[\"Sport\"]==sport)]\n",
    "        olympic_df1=olympic[(olympic[\"Year\"]==yolympic) & (olympic[\"Sport\"]==sport)]\n",
    "        \n",
    "        asian_df1=asian_df1[asian_df1[\"Sport_Type\"]==\"Single\"]\n",
    "        asian_df1.drop(columns=[\"Sport_Type\",\"Event\"],inplace=True)\n",
    "\n",
    "        asian_df1=asian_df1.groupby(by=[\"Year\",\"Sport\",\"Country\",\"Gender\",\"Player_Name\"]).sum().reset_index()\n",
    "        \n",
    "        olympic_df1=olympic_df1[olympic_df1[\"Sport_Type\"]==\"Individual\"]\n",
    "        olympic_df1.drop(columns=[\"Sport_Type\",\"Host_City\",\"Event\"],inplace=True)\n",
    "\n",
    "        olympic_df1=olympic_df1.groupby(by=[\"Year\",\"Sport\",\"Country\",\"Gender\",\"Name\"]).sum().reset_index()\n",
    "        \n",
    "        result=olympic_df1.merge(asian_df1,left_on=\"Name\",right_on=\"Player_Name\",suffixes=('_Olympic','_Asian'))\n",
    "        \n",
    "        for x in result.values:\n",
    "            df.loc[len(df.index)]=[x[1],x[2],x[4],x[8],x[0],x[5],x[13],x[6],x[14],x[7],x[15]]\n",
    "    \n",
    "    return df"
   ]
  },
  {
   "cell_type": "code",
   "execution_count": 24,
   "metadata": {},
   "outputs": [],
   "source": [
    "max_player_sport=[]\n",
    "\n",
    "for x in games:\n",
    "    result_sport=SportWiseAthleteComparison(x)\n",
    "    max_player_sport.append([x,len(result_sport)])\n",
    "max_player_sport=sorted(max_player_sport,key=lambda x:x[1])"
   ]
  },
  {
   "cell_type": "code",
   "execution_count": 25,
   "metadata": {},
   "outputs": [
    {
     "data": {
      "text/plain": [
       "[['Diving', 37],\n",
       " ['Judo', 44],\n",
       " ['Wrestling', 48],\n",
       " ['Swimming', 51],\n",
       " ['Weightlifting', 52]]"
      ]
     },
     "execution_count": 25,
     "metadata": {},
     "output_type": "execute_result"
    }
   ],
   "source": [
    "max_player_sport[-5:]"
   ]
  },
  {
   "cell_type": "markdown",
   "metadata": {},
   "source": [
    "here we can see the top 5 sports in which maximum number of players won atleast one medal successively in asian and olympic games."
   ]
  },
  {
   "cell_type": "code",
   "execution_count": 26,
   "metadata": {},
   "outputs": [],
   "source": [
    "max_player_gold_sport=[]\n",
    "\n",
    "for x in games:\n",
    "    result_sport=SportWiseAthleteComparison(x)\n",
    "    result_sport=result_sport[(result_sport[\"Gold_Asian\"]>=1) & (result_sport[\"Gold_Olympic\"]>=1)]\n",
    "    max_player_gold_sport.append([x,len(result_sport)])\n",
    "max_player_gold_sport=sorted(max_player_gold_sport,key=lambda x:x[1])"
   ]
  },
  {
   "cell_type": "code",
   "execution_count": 27,
   "metadata": {},
   "outputs": [
    {
     "data": {
      "text/plain": [
       "[['Judo', 12],\n",
       " ['Wrestling', 13],\n",
       " ['Gymnastics', 14],\n",
       " ['Swimming', 16],\n",
       " ['Weightlifting', 18]]"
      ]
     },
     "execution_count": 27,
     "metadata": {},
     "output_type": "execute_result"
    }
   ],
   "source": [
    "max_player_gold_sport[-5:]"
   ]
  },
  {
   "cell_type": "markdown",
   "metadata": {},
   "source": [
    "here we can see the top 5 sports in which maximum number of players won atleast one gold medal successively in asian and olympic games."
   ]
  }
 ],
 "metadata": {
  "kernelspec": {
   "display_name": "Python 3",
   "language": "python",
   "name": "python3"
  },
  "language_info": {
   "codemirror_mode": {
    "name": "ipython",
    "version": 3
   },
   "file_extension": ".py",
   "mimetype": "text/x-python",
   "name": "python",
   "nbconvert_exporter": "python",
   "pygments_lexer": "ipython3",
   "version": "3.10.0"
  }
 },
 "nbformat": 4,
 "nbformat_minor": 4
}
